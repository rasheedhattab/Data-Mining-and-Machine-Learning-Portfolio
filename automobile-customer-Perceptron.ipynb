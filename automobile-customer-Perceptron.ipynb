{
 "cells": [
  {
   "cell_type": "code",
   "execution_count": 1,
   "id": "c351bcd5",
   "metadata": {},
   "outputs": [],
   "source": [
    "import sys\n",
    "assert sys.version_info >= (3, 5)\n",
    "\n",
    "import sklearn\n",
    "assert sklearn.__version__ >= \"0.20\"\n",
    "\n",
    "# Common imports\n",
    "import numpy as np\n",
    "import os\n",
    "import tarfile\n",
    "import urllib\n",
    "import pandas as pd\n",
    "import urllib.request\n",
    "\n",
    "# to make this notebook's output stable across runs\n",
    "np.random.seed(42)\n",
    "\n",
    "# To plot pretty figures\n",
    "%matplotlib inline\n",
    "import matplotlib as mpl\n",
    "import matplotlib.pyplot as plt\n",
    "mpl.rc('axes', labelsize=14)\n",
    "mpl.rc('xtick', labelsize=12)\n",
    "mpl.rc('ytick', labelsize=12)\n",
    "\n",
    "# Ignore useless warnings (see SciPy issue #5998)\n",
    "import warnings\n",
    "warnings.filterwarnings(action=\"ignore\", message=\"^internal gelsd\")\n",
    " \n",
    "import category_encoders as ce \n",
    "from sklearn.model_selection import train_test_split\n",
    "from sklearn.linear_model import LinearRegression\n",
    "from sklearn import metrics\n",
    "from sklearn.model_selection import KFold\n",
    "import tensorflow as tf\n",
    "from sklearn.linear_model import Perceptron\n"
   ]
  },
  {
   "cell_type": "code",
   "execution_count": 2,
   "id": "f8b716e2",
   "metadata": {},
   "outputs": [],
   "source": [
    "def load_data():\n",
    "    csv_path =\"./train-set.csv\"\n",
    "    return pd.read_csv(csv_path)"
   ]
  },
  {
   "cell_type": "code",
   "execution_count": 3,
   "id": "ba267cc4",
   "metadata": {},
   "outputs": [
    {
     "data": {
      "text/html": [
       "<div>\n",
       "<style scoped>\n",
       "    .dataframe tbody tr th:only-of-type {\n",
       "        vertical-align: middle;\n",
       "    }\n",
       "\n",
       "    .dataframe tbody tr th {\n",
       "        vertical-align: top;\n",
       "    }\n",
       "\n",
       "    .dataframe thead th {\n",
       "        text-align: right;\n",
       "    }\n",
       "</style>\n",
       "<table border=\"1\" class=\"dataframe\">\n",
       "  <thead>\n",
       "    <tr style=\"text-align: right;\">\n",
       "      <th></th>\n",
       "      <th>CustomerID</th>\n",
       "      <th>Gender</th>\n",
       "      <th>Married</th>\n",
       "      <th>Age</th>\n",
       "      <th>Graduated</th>\n",
       "      <th>Profession</th>\n",
       "      <th>WorkExperience</th>\n",
       "      <th>SpendingScore</th>\n",
       "      <th>FamilySize</th>\n",
       "      <th>Category</th>\n",
       "      <th>Segmentation</th>\n",
       "    </tr>\n",
       "  </thead>\n",
       "  <tbody>\n",
       "    <tr>\n",
       "      <th>0</th>\n",
       "      <td>462809</td>\n",
       "      <td>Male</td>\n",
       "      <td>No</td>\n",
       "      <td>22</td>\n",
       "      <td>No</td>\n",
       "      <td>Healthcare</td>\n",
       "      <td>1</td>\n",
       "      <td>Low</td>\n",
       "      <td>4</td>\n",
       "      <td>Category 4</td>\n",
       "      <td>D</td>\n",
       "    </tr>\n",
       "    <tr>\n",
       "      <th>1</th>\n",
       "      <td>462643</td>\n",
       "      <td>Female</td>\n",
       "      <td>Yes</td>\n",
       "      <td>38</td>\n",
       "      <td>Yes</td>\n",
       "      <td>Engineer</td>\n",
       "      <td>NaN</td>\n",
       "      <td>Average</td>\n",
       "      <td>3</td>\n",
       "      <td>Category 4</td>\n",
       "      <td>A</td>\n",
       "    </tr>\n",
       "    <tr>\n",
       "      <th>2</th>\n",
       "      <td>466315</td>\n",
       "      <td>Female</td>\n",
       "      <td>Yes</td>\n",
       "      <td>67</td>\n",
       "      <td>Yes</td>\n",
       "      <td>Engineer</td>\n",
       "      <td>1</td>\n",
       "      <td>Low</td>\n",
       "      <td>1</td>\n",
       "      <td>Category 6</td>\n",
       "      <td>B</td>\n",
       "    </tr>\n",
       "    <tr>\n",
       "      <th>3</th>\n",
       "      <td>461735</td>\n",
       "      <td>Male</td>\n",
       "      <td>Yes</td>\n",
       "      <td>67</td>\n",
       "      <td>Yes</td>\n",
       "      <td>Lawyer</td>\n",
       "      <td>0</td>\n",
       "      <td>High</td>\n",
       "      <td>2</td>\n",
       "      <td>Category 6</td>\n",
       "      <td>B</td>\n",
       "    </tr>\n",
       "    <tr>\n",
       "      <th>4</th>\n",
       "      <td>462669</td>\n",
       "      <td>Female</td>\n",
       "      <td>Yes</td>\n",
       "      <td>40</td>\n",
       "      <td>Yes</td>\n",
       "      <td>Entertainment</td>\n",
       "      <td>NaN</td>\n",
       "      <td>High</td>\n",
       "      <td>6</td>\n",
       "      <td>Category 6</td>\n",
       "      <td>A</td>\n",
       "    </tr>\n",
       "  </tbody>\n",
       "</table>\n",
       "</div>"
      ],
      "text/plain": [
       "   CustomerID  Gender Married  Age Graduated     Profession  WorkExperience  \\\n",
       "0      462809    Male      No   22        No     Healthcare               1   \n",
       "1      462643  Female     Yes   38       Yes       Engineer             NaN   \n",
       "2      466315  Female     Yes   67       Yes       Engineer               1   \n",
       "3      461735    Male     Yes   67       Yes         Lawyer               0   \n",
       "4      462669  Female     Yes   40       Yes  Entertainment             NaN   \n",
       "\n",
       "  SpendingScore  FamilySize    Category Segmentation  \n",
       "0           Low           4  Category 4            D  \n",
       "1       Average           3  Category 4            A  \n",
       "2           Low           1  Category 6            B  \n",
       "3          High           2  Category 6            B  \n",
       "4          High           6  Category 6            A  "
      ]
     },
     "execution_count": 3,
     "metadata": {},
     "output_type": "execute_result"
    }
   ],
   "source": [
    "pd.options.display.float_format = '{:,.0f}'.format\n",
    "\n",
    "df = load_data() # \"housing\" is a pandas DataFrame object containing all the data\n",
    "df.head() # Display the top five rows of the DataFrame\n",
    "#Q1 How many attribuites in the data set? Desribe the attribuites ."
   ]
  },
  {
   "cell_type": "code",
   "execution_count": 6,
   "id": "15cf9e5b",
   "metadata": {},
   "outputs": [
    {
     "data": {
      "text/plain": [
       "Low        4878\n",
       "Average    1974\n",
       "High       1216\n",
       "Name: SpendingScore, dtype: int64"
      ]
     },
     "execution_count": 6,
     "metadata": {},
     "output_type": "execute_result"
    }
   ],
   "source": [
    "df['SpendingScore'].value_counts()"
   ]
  },
  {
   "cell_type": "code",
   "execution_count": 7,
   "id": "4f8c7f5c",
   "metadata": {},
   "outputs": [
    {
     "data": {
      "text/plain": [
       "Category 6    5238\n",
       "Category 4    1089\n",
       "Category 3     822\n",
       "Category 2     422\n",
       "Category 7     203\n",
       "Category 1     133\n",
       "Category 5      85\n",
       "Name: Category, dtype: int64"
      ]
     },
     "execution_count": 7,
     "metadata": {},
     "output_type": "execute_result"
    }
   ],
   "source": [
    "df['Category'].value_counts()"
   ]
  },
  {
   "cell_type": "code",
   "execution_count": 8,
   "id": "4c387f93",
   "metadata": {},
   "outputs": [
    {
     "data": {
      "text/plain": [
       "D    2268\n",
       "A    1972\n",
       "C    1970\n",
       "B    1858\n",
       "Name: Segmentation, dtype: int64"
      ]
     },
     "execution_count": 8,
     "metadata": {},
     "output_type": "execute_result"
    }
   ],
   "source": [
    "df['Segmentation'].value_counts()"
   ]
  },
  {
   "cell_type": "code",
   "execution_count": 9,
   "id": "dd03f491",
   "metadata": {},
   "outputs": [
    {
     "data": {
      "text/html": [
       "<div>\n",
       "<style scoped>\n",
       "    .dataframe tbody tr th:only-of-type {\n",
       "        vertical-align: middle;\n",
       "    }\n",
       "\n",
       "    .dataframe tbody tr th {\n",
       "        vertical-align: top;\n",
       "    }\n",
       "\n",
       "    .dataframe thead th {\n",
       "        text-align: right;\n",
       "    }\n",
       "</style>\n",
       "<table border=\"1\" class=\"dataframe\">\n",
       "  <thead>\n",
       "    <tr style=\"text-align: right;\">\n",
       "      <th></th>\n",
       "      <th>CustomerID</th>\n",
       "      <th>Gender</th>\n",
       "      <th>Married</th>\n",
       "      <th>Age</th>\n",
       "      <th>Graduated</th>\n",
       "      <th>Profession</th>\n",
       "      <th>WorkExperience</th>\n",
       "      <th>SpendingScore</th>\n",
       "      <th>FamilySize</th>\n",
       "      <th>Category</th>\n",
       "      <th>Segmentation</th>\n",
       "    </tr>\n",
       "  </thead>\n",
       "  <tbody>\n",
       "    <tr>\n",
       "      <th>0</th>\n",
       "      <td>462809</td>\n",
       "      <td>1</td>\n",
       "      <td>0</td>\n",
       "      <td>22</td>\n",
       "      <td>0</td>\n",
       "      <td>5</td>\n",
       "      <td>1</td>\n",
       "      <td>1</td>\n",
       "      <td>4</td>\n",
       "      <td>4</td>\n",
       "      <td>4</td>\n",
       "    </tr>\n",
       "    <tr>\n",
       "      <th>1</th>\n",
       "      <td>462643</td>\n",
       "      <td>0</td>\n",
       "      <td>1</td>\n",
       "      <td>38</td>\n",
       "      <td>1</td>\n",
       "      <td>2</td>\n",
       "      <td>NaN</td>\n",
       "      <td>2</td>\n",
       "      <td>3</td>\n",
       "      <td>4</td>\n",
       "      <td>1</td>\n",
       "    </tr>\n",
       "    <tr>\n",
       "      <th>2</th>\n",
       "      <td>466315</td>\n",
       "      <td>0</td>\n",
       "      <td>1</td>\n",
       "      <td>67</td>\n",
       "      <td>1</td>\n",
       "      <td>2</td>\n",
       "      <td>1</td>\n",
       "      <td>1</td>\n",
       "      <td>1</td>\n",
       "      <td>6</td>\n",
       "      <td>2</td>\n",
       "    </tr>\n",
       "    <tr>\n",
       "      <th>3</th>\n",
       "      <td>461735</td>\n",
       "      <td>1</td>\n",
       "      <td>1</td>\n",
       "      <td>67</td>\n",
       "      <td>1</td>\n",
       "      <td>7</td>\n",
       "      <td>0</td>\n",
       "      <td>3</td>\n",
       "      <td>2</td>\n",
       "      <td>6</td>\n",
       "      <td>2</td>\n",
       "    </tr>\n",
       "    <tr>\n",
       "      <th>4</th>\n",
       "      <td>462669</td>\n",
       "      <td>0</td>\n",
       "      <td>1</td>\n",
       "      <td>40</td>\n",
       "      <td>1</td>\n",
       "      <td>3</td>\n",
       "      <td>NaN</td>\n",
       "      <td>3</td>\n",
       "      <td>6</td>\n",
       "      <td>6</td>\n",
       "      <td>1</td>\n",
       "    </tr>\n",
       "  </tbody>\n",
       "</table>\n",
       "</div>"
      ],
      "text/plain": [
       "   CustomerID  Gender  Married  Age  Graduated  Profession  WorkExperience  \\\n",
       "0      462809       1        0   22          0           5               1   \n",
       "1      462643       0        1   38          1           2             NaN   \n",
       "2      466315       0        1   67          1           2               1   \n",
       "3      461735       1        1   67          1           7               0   \n",
       "4      462669       0        1   40          1           3             NaN   \n",
       "\n",
       "   SpendingScore  FamilySize  Category  Segmentation  \n",
       "0              1           4         4             4  \n",
       "1              2           3         4             1  \n",
       "2              1           1         6             2  \n",
       "3              3           2         6             2  \n",
       "4              3           6         6             1  "
      ]
     },
     "execution_count": 9,
     "metadata": {},
     "output_type": "execute_result"
    }
   ],
   "source": [
    "dictionary_SpendingScore=[{'col':'SpendingScore','mapping':{'Low':1,'Average':2,'High':3}}]\n",
    "encoder=ce.OrdinalEncoder(cols='SpendingScore',mapping=dictionary_SpendingScore)\n",
    "\n",
    "x_train_encoded =encoder.fit_transform(df)\n",
    "\n",
    "dictionary_Category=[{'col':'Category','mapping':{'Category 1':1,'Category 2':2,'Category 3':3,'Category 4':4,'Category 5':5,'Category 6':6,'Category 7':7}}]\n",
    "encoder=ce.OrdinalEncoder(cols='Category',mapping=dictionary_Category)\n",
    "\n",
    "x_train_encoded =encoder.fit_transform(x_train_encoded)\n",
    "\n",
    "dictionary_Segmentation=[{'col':'Segmentation','mapping':{'A':1,'B':2,'C':3,'D':4}}]\n",
    "encoder=ce.OrdinalEncoder(cols='Category',mapping=dictionary_Segmentation)\n",
    "\n",
    "x_train_encoded =encoder.fit_transform(x_train_encoded)\n",
    "\n",
    "#coding the Category to number\n",
    "x_train_encoded.Gender = pd.Categorical(x_train_encoded.Gender)\n",
    "x_train_encoded['Gender'] = x_train_encoded.Gender.cat.codes\n",
    "\n",
    "x_train_encoded.Married = pd.Categorical(x_train_encoded.Married)\n",
    "x_train_encoded['Married'] = x_train_encoded.Married.cat.codes\n",
    "\n",
    "x_train_encoded.Graduated = pd.Categorical(x_train_encoded.Graduated)\n",
    "x_train_encoded['Graduated'] = x_train_encoded.Graduated.cat.codes\n",
    "\n",
    "x_train_encoded.Profession = pd.Categorical(x_train_encoded.Profession)\n",
    "x_train_encoded['Profession'] = x_train_encoded.Profession.cat.codes\n",
    "\n",
    "\n",
    "\n",
    "x_train_encoded.head() "
   ]
  },
  {
   "cell_type": "code",
   "execution_count": 10,
   "id": "6f2fd6ec",
   "metadata": {},
   "outputs": [
    {
     "name": "stdout",
     "output_type": "stream",
     "text": [
      "[[ 1.  1. 39. ...  2.  2.  1.]\n",
      " [ 0.  0. 27. ...  1.  4.  6.]\n",
      " [ 0.  1. 41. ...  2.  2.  6.]\n",
      " ...\n",
      " [ 0.  0. 38. ...  1.  8.  2.]\n",
      " [ 1.  1. 40. ...  1.  2.  6.]\n",
      " [ 0.  0. 55. ...  1.  1.  6.]]\n",
      "(4878, 9)\n",
      "[4 2 2 ... 4 2 2]\n",
      "(6969,)\n"
     ]
    }
   ],
   "source": [
    "\n",
    "x_train_encoded[\"WorkExperience\"] = pd.to_numeric(x_train_encoded[\"WorkExperience\"])\n",
    "\n",
    "\n",
    "nan_value = float(\"NaN\")\n",
    "#x_train_encoded.replace(0, nan_value, inplace=True)\n",
    "x_train_encoded.dropna(subset = [\"FamilySize\"], inplace=True)\n",
    "x_train_encoded.dropna(subset = [\"WorkExperience\"], inplace=True)\n",
    " \n",
    "x_train_encoded[\"WorkExperience\"] = x_train_encoded[\"WorkExperience\"].astype(int)\n",
    "\n",
    "X=np.array(x_train_encoded[['Gender','Married','Age','Graduated','Profession','WorkExperience','SpendingScore','FamilySize','Category']])\n",
    "\n",
    "y=np.array(x_train_encoded['Segmentation'])\n",
    "X_train, X_test, y_train, y_test = train_test_split(X, y, test_size=0.30, random_state=1)\n",
    "print(X_train)\n",
    "print(X_train.shape)\n",
    "print(y)\n",
    "print(y.shape)"
   ]
  },
  {
   "cell_type": "code",
   "execution_count": 11,
   "id": "24495708",
   "metadata": {},
   "outputs": [
    {
     "data": {
      "text/plain": [
       "Perceptron(random_state=42)"
      ]
     },
     "execution_count": 11,
     "metadata": {},
     "output_type": "execute_result"
    }
   ],
   "source": [
    "per_clf = Perceptron(max_iter=1000, tol=1e-3, random_state=42)\n",
    "per_clf.fit(X_train, y_train)"
   ]
  },
  {
   "cell_type": "code",
   "execution_count": 12,
   "id": "82d9d9b5",
   "metadata": {},
   "outputs": [],
   "source": [
    "y_pred = per_clf.predict(X_test)"
   ]
  },
  {
   "cell_type": "code",
   "execution_count": 14,
   "id": "8752fc87",
   "metadata": {},
   "outputs": [],
   "source": [
    "yTruePred=np.empty(len(y_pred), dtype=int)\n",
    "for i in range(len(y_pred)):\n",
    "    if y_pred[i]==y_test[i]: \n",
    "      yTruePred[i] = y_pred[i]"
   ]
  },
  {
   "cell_type": "code",
   "execution_count": 14,
   "id": "f25ae57b",
   "metadata": {},
   "outputs": [
    {
     "name": "stdout",
     "output_type": "stream",
     "text": [
      "2091\n",
      "2091\n"
     ]
    }
   ],
   "source": [
    "print(len(y_test))\n",
    "print(len(yTruePred))"
   ]
  },
  {
   "cell_type": "code",
   "execution_count": null,
   "id": "574ebdaa",
   "metadata": {},
   "outputs": [],
   "source": []
  }
 ],
 "metadata": {
  "kernelspec": {
   "display_name": "Python 3 (ipykernel)",
   "language": "python",
   "name": "python3"
  },
  "language_info": {
   "codemirror_mode": {
    "name": "ipython",
    "version": 3
   },
   "file_extension": ".py",
   "mimetype": "text/x-python",
   "name": "python",
   "nbconvert_exporter": "python",
   "pygments_lexer": "ipython3",
   "version": "3.8.11"
  }
 },
 "nbformat": 4,
 "nbformat_minor": 5
}
